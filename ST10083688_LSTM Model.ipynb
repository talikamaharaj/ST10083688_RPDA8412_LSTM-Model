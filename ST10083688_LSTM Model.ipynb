{
 "cells": [
  {
   "cell_type": "markdown",
   "metadata": {},
   "source": [
    "### **Deep learning model - LSTM**"
   ]
  },
  {
   "cell_type": "markdown",
   "metadata": {},
   "source": [
    "### Importing the libraries"
   ]
  },
  {
   "cell_type": "code",
   "execution_count": 1,
   "metadata": {},
   "outputs": [
    {
     "name": "stderr",
     "output_type": "stream",
     "text": [
      "2024-11-04 05:12:13.210814: I tensorflow/core/util/port.cc:110] oneDNN custom operations are on. You may see slightly different numerical results due to floating-point round-off errors from different computation orders. To turn them off, set the environment variable `TF_ENABLE_ONEDNN_OPTS=0`.\n",
      "2024-11-04 05:12:13.213196: I tensorflow/tsl/cuda/cudart_stub.cc:28] Could not find cuda drivers on your machine, GPU will not be used.\n",
      "2024-11-04 05:12:13.261858: I tensorflow/tsl/cuda/cudart_stub.cc:28] Could not find cuda drivers on your machine, GPU will not be used.\n",
      "2024-11-04 05:12:13.262929: I tensorflow/core/platform/cpu_feature_guard.cc:182] This TensorFlow binary is optimized to use available CPU instructions in performance-critical operations.\n",
      "To enable the following instructions: AVX2 AVX512F AVX512_VNNI FMA, in other operations, rebuild TensorFlow with the appropriate compiler flags.\n",
      "2024-11-04 05:12:14.122751: W tensorflow/compiler/tf2tensorrt/utils/py_utils.cc:38] TF-TRT Warning: Could not find TensorRT\n"
     ]
    }
   ],
   "source": [
    "from pyspark import SparkConf\n",
    "from pyspark import SparkContext\n",
    "from pyspark.sql import SparkSession\n",
    "import tensorflow as tf\n",
    "import numpy as np\n",
    "import pandas as pd\n",
    "import matplotlib.pyplot as plt\n",
    "from sklearn.preprocessing import MinMaxScaler\n",
    "from tensorflow.keras.models import Sequential\n",
    "from tensorflow.keras.layers import LSTM, Dense, InputLayer\n",
    "from tensorflow.keras.callbacks import EarlyStopping\n",
    "from tensorflow.keras.losses import MeanSquaredError\n",
    "from tensorflow.keras.metrics import RootMeanSquaredError\n",
    "from tensorflow.keras.optimizers import Adam\n",
    "from sklearn.metrics import r2_score\n",
    "from sklearn.metrics import mean_absolute_error\n",
    "from sklearn.metrics import mean_squared_error\n",
    "from sklearn.metrics import root_mean_squared_error\n",
    "from sklearn.metrics import mean_absolute_percentage_error"
   ]
  },
  {
   "cell_type": "markdown",
   "metadata": {},
   "source": [
    "### Setting up a Spark session"
   ]
  },
  {
   "cell_type": "code",
   "execution_count": 2,
   "metadata": {},
   "outputs": [
    {
     "name": "stderr",
     "output_type": "stream",
     "text": [
      "Setting default log level to \"WARN\".\n",
      "To adjust logging level use sc.setLogLevel(newLevel). For SparkR, use setLogLevel(newLevel).\n"
     ]
    },
    {
     "name": "stdout",
     "output_type": "stream",
     "text": [
      "24/11/04 05:12:22 WARN NativeCodeLoader: Unable to load native-hadoop library for your platform... using builtin-java classes where applicable\n"
     ]
    }
   ],
   "source": [
    "# Configuring a Spark session\n",
    "configure_spark = SparkConf().set(\"spark.driver.host\", \"127.0.0.1\")\n",
    "spark_configure = SparkContext(conf=configure_spark)"
   ]
  },
  {
   "cell_type": "code",
   "execution_count": 3,
   "metadata": {},
   "outputs": [],
   "source": [
    "# Creating a Spark session\n",
    "spark=SparkSession.builder.getOrCreate()"
   ]
  },
  {
   "cell_type": "code",
   "execution_count": 4,
   "metadata": {},
   "outputs": [
    {
     "data": {
      "text/html": [
       "\n",
       "            <div>\n",
       "                <p><b>SparkSession - in-memory</b></p>\n",
       "                \n",
       "        <div>\n",
       "            <p><b>SparkContext</b></p>\n",
       "\n",
       "            <p><a href=\"http://127.0.0.1:4040\">Spark UI</a></p>\n",
       "\n",
       "            <dl>\n",
       "              <dt>Version</dt>\n",
       "                <dd><code>v3.3.2</code></dd>\n",
       "              <dt>Master</dt>\n",
       "                <dd><code>local[*]</code></dd>\n",
       "              <dt>AppName</dt>\n",
       "                <dd><code>pyspark-shell</code></dd>\n",
       "            </dl>\n",
       "        </div>\n",
       "        \n",
       "            </div>\n",
       "        "
      ],
      "text/plain": [
       "<pyspark.sql.session.SparkSession at 0x7fc8d8375430>"
      ]
     },
     "execution_count": 4,
     "metadata": {},
     "output_type": "execute_result"
    }
   ],
   "source": [
    "# Checking if the Spark session is active\n",
    "spark"
   ]
  },
  {
   "cell_type": "markdown",
   "metadata": {},
   "source": [
    "### Preparing the data for analysis"
   ]
  },
  {
   "cell_type": "code",
   "execution_count": 5,
   "metadata": {},
   "outputs": [],
   "source": [
    "# Loading the CSV file into a PySpark data frame\n",
    "df = spark.read.csv('/home/lab_services_student/RPDA8412/RPDA8412_Analysis Features.csv',header=True,inferSchema=True)"
   ]
  },
  {
   "cell_type": "code",
   "execution_count": 6,
   "metadata": {},
   "outputs": [],
   "source": [
    "# Converting the PySpark data frame to a Pandas data frame\n",
    "df_pandas = df.toPandas()"
   ]
  },
  {
   "cell_type": "code",
   "execution_count": 7,
   "metadata": {},
   "outputs": [
    {
     "data": {
      "text/html": [
       "<div>\n",
       "<style scoped>\n",
       "    .dataframe tbody tr th:only-of-type {\n",
       "        vertical-align: middle;\n",
       "    }\n",
       "\n",
       "    .dataframe tbody tr th {\n",
       "        vertical-align: top;\n",
       "    }\n",
       "\n",
       "    .dataframe thead th {\n",
       "        text-align: right;\n",
       "    }\n",
       "</style>\n",
       "<table border=\"1\" class=\"dataframe\">\n",
       "  <thead>\n",
       "    <tr style=\"text-align: right;\">\n",
       "      <th></th>\n",
       "      <th>timeStamp</th>\n",
       "      <th>air_temp</th>\n",
       "      <th>relhum</th>\n",
       "      <th>press</th>\n",
       "      <th>windsp</th>\n",
       "      <th>winddir</th>\n",
       "      <th>max_windsp</th>\n",
       "      <th>precipitation</th>\n",
       "      <th>ghi</th>\n",
       "      <th>dni</th>\n",
       "      <th>dhi</th>\n",
       "    </tr>\n",
       "  </thead>\n",
       "  <tbody>\n",
       "    <tr>\n",
       "      <th>0</th>\n",
       "      <td>2015-01-01 00:00:00</td>\n",
       "      <td>12.4</td>\n",
       "      <td>25.54</td>\n",
       "      <td>1006</td>\n",
       "      <td>2.72</td>\n",
       "      <td>318.6</td>\n",
       "      <td>3.6</td>\n",
       "      <td>0</td>\n",
       "      <td>122.7</td>\n",
       "      <td>632.2</td>\n",
       "      <td>34.78</td>\n",
       "    </tr>\n",
       "    <tr>\n",
       "      <th>1</th>\n",
       "      <td>2015-01-01 00:01:00</td>\n",
       "      <td>12.4</td>\n",
       "      <td>25.66</td>\n",
       "      <td>1006</td>\n",
       "      <td>2.38</td>\n",
       "      <td>312.0</td>\n",
       "      <td>3.2</td>\n",
       "      <td>0</td>\n",
       "      <td>119.9</td>\n",
       "      <td>626.2</td>\n",
       "      <td>34.43</td>\n",
       "    </tr>\n",
       "    <tr>\n",
       "      <th>2</th>\n",
       "      <td>2015-01-01 00:02:00</td>\n",
       "      <td>12.4</td>\n",
       "      <td>25.60</td>\n",
       "      <td>1006</td>\n",
       "      <td>3.20</td>\n",
       "      <td>309.2</td>\n",
       "      <td>4.1</td>\n",
       "      <td>0</td>\n",
       "      <td>133.2</td>\n",
       "      <td>642.5</td>\n",
       "      <td>47.16</td>\n",
       "    </tr>\n",
       "    <tr>\n",
       "      <th>3</th>\n",
       "      <td>2015-01-01 00:03:00</td>\n",
       "      <td>12.4</td>\n",
       "      <td>25.48</td>\n",
       "      <td>1006</td>\n",
       "      <td>2.30</td>\n",
       "      <td>308.8</td>\n",
       "      <td>3.1</td>\n",
       "      <td>0</td>\n",
       "      <td>154.9</td>\n",
       "      <td>621.9</td>\n",
       "      <td>73.33</td>\n",
       "    </tr>\n",
       "    <tr>\n",
       "      <th>4</th>\n",
       "      <td>2015-01-01 00:04:00</td>\n",
       "      <td>12.4</td>\n",
       "      <td>25.64</td>\n",
       "      <td>1006</td>\n",
       "      <td>2.50</td>\n",
       "      <td>315.2</td>\n",
       "      <td>3.0</td>\n",
       "      <td>0</td>\n",
       "      <td>153.7</td>\n",
       "      <td>582.9</td>\n",
       "      <td>78.71</td>\n",
       "    </tr>\n",
       "  </tbody>\n",
       "</table>\n",
       "</div>"
      ],
      "text/plain": [
       "            timeStamp  air_temp  relhum  press  windsp  winddir  max_windsp  \\\n",
       "0 2015-01-01 00:00:00      12.4   25.54   1006    2.72    318.6         3.6   \n",
       "1 2015-01-01 00:01:00      12.4   25.66   1006    2.38    312.0         3.2   \n",
       "2 2015-01-01 00:02:00      12.4   25.60   1006    3.20    309.2         4.1   \n",
       "3 2015-01-01 00:03:00      12.4   25.48   1006    2.30    308.8         3.1   \n",
       "4 2015-01-01 00:04:00      12.4   25.64   1006    2.50    315.2         3.0   \n",
       "\n",
       "   precipitation    ghi    dni    dhi  \n",
       "0              0  122.7  632.2  34.78  \n",
       "1              0  119.9  626.2  34.43  \n",
       "2              0  133.2  642.5  47.16  \n",
       "3              0  154.9  621.9  73.33  \n",
       "4              0  153.7  582.9  78.71  "
      ]
     },
     "execution_count": 7,
     "metadata": {},
     "output_type": "execute_result"
    }
   ],
   "source": [
    "# Viewing the first 5 rows of the data frame\n",
    "df_pandas.head()"
   ]
  },
  {
   "cell_type": "code",
   "execution_count": 8,
   "metadata": {},
   "outputs": [
    {
     "data": {
      "text/plain": [
       "(17280, 11)"
      ]
     },
     "execution_count": 8,
     "metadata": {},
     "output_type": "execute_result"
    }
   ],
   "source": [
    "# Viewing the shape of the data frame\n",
    "df_pandas.shape"
   ]
  },
  {
   "cell_type": "code",
   "execution_count": 9,
   "metadata": {},
   "outputs": [
    {
     "data": {
      "text/html": [
       "<div>\n",
       "<style scoped>\n",
       "    .dataframe tbody tr th:only-of-type {\n",
       "        vertical-align: middle;\n",
       "    }\n",
       "\n",
       "    .dataframe tbody tr th {\n",
       "        vertical-align: top;\n",
       "    }\n",
       "\n",
       "    .dataframe thead th {\n",
       "        text-align: right;\n",
       "    }\n",
       "</style>\n",
       "<table border=\"1\" class=\"dataframe\">\n",
       "  <thead>\n",
       "    <tr style=\"text-align: right;\">\n",
       "      <th></th>\n",
       "      <th>air_temp</th>\n",
       "      <th>relhum</th>\n",
       "      <th>press</th>\n",
       "      <th>windsp</th>\n",
       "      <th>winddir</th>\n",
       "      <th>max_windsp</th>\n",
       "      <th>precipitation</th>\n",
       "      <th>ghi</th>\n",
       "      <th>dni</th>\n",
       "      <th>dhi</th>\n",
       "    </tr>\n",
       "  </thead>\n",
       "  <tbody>\n",
       "    <tr>\n",
       "      <th>count</th>\n",
       "      <td>17280.000000</td>\n",
       "      <td>17280.000000</td>\n",
       "      <td>17280.000000</td>\n",
       "      <td>17280.000000</td>\n",
       "      <td>17280.000000</td>\n",
       "      <td>17280.000000</td>\n",
       "      <td>17280.0</td>\n",
       "      <td>17280.000000</td>\n",
       "      <td>17280.000000</td>\n",
       "      <td>17280.000000</td>\n",
       "    </tr>\n",
       "    <tr>\n",
       "      <th>mean</th>\n",
       "      <td>8.701582</td>\n",
       "      <td>67.729829</td>\n",
       "      <td>1009.649190</td>\n",
       "      <td>1.270847</td>\n",
       "      <td>188.947271</td>\n",
       "      <td>1.984583</td>\n",
       "      <td>0.0</td>\n",
       "      <td>103.138182</td>\n",
       "      <td>178.210890</td>\n",
       "      <td>37.898906</td>\n",
       "    </tr>\n",
       "    <tr>\n",
       "      <th>std</th>\n",
       "      <td>4.993406</td>\n",
       "      <td>15.472275</td>\n",
       "      <td>4.325073</td>\n",
       "      <td>0.617391</td>\n",
       "      <td>99.669510</td>\n",
       "      <td>0.813625</td>\n",
       "      <td>0.0</td>\n",
       "      <td>162.767789</td>\n",
       "      <td>307.588747</td>\n",
       "      <td>64.325903</td>\n",
       "    </tr>\n",
       "    <tr>\n",
       "      <th>min</th>\n",
       "      <td>-2.100000</td>\n",
       "      <td>25.480000</td>\n",
       "      <td>1002.000000</td>\n",
       "      <td>0.000000</td>\n",
       "      <td>0.000000</td>\n",
       "      <td>0.000000</td>\n",
       "      <td>0.0</td>\n",
       "      <td>0.000000</td>\n",
       "      <td>0.000000</td>\n",
       "      <td>0.000000</td>\n",
       "    </tr>\n",
       "    <tr>\n",
       "      <th>25%</th>\n",
       "      <td>5.300000</td>\n",
       "      <td>55.160000</td>\n",
       "      <td>1006.000000</td>\n",
       "      <td>0.780000</td>\n",
       "      <td>89.400000</td>\n",
       "      <td>1.400000</td>\n",
       "      <td>0.0</td>\n",
       "      <td>0.000000</td>\n",
       "      <td>0.000000</td>\n",
       "      <td>0.000000</td>\n",
       "    </tr>\n",
       "    <tr>\n",
       "      <th>50%</th>\n",
       "      <td>8.600000</td>\n",
       "      <td>72.700000</td>\n",
       "      <td>1010.000000</td>\n",
       "      <td>1.240000</td>\n",
       "      <td>195.000000</td>\n",
       "      <td>2.000000</td>\n",
       "      <td>0.0</td>\n",
       "      <td>0.000000</td>\n",
       "      <td>0.000000</td>\n",
       "      <td>0.051000</td>\n",
       "    </tr>\n",
       "    <tr>\n",
       "      <th>75%</th>\n",
       "      <td>12.160000</td>\n",
       "      <td>80.200000</td>\n",
       "      <td>1013.000000</td>\n",
       "      <td>1.680000</td>\n",
       "      <td>287.500000</td>\n",
       "      <td>2.500000</td>\n",
       "      <td>0.0</td>\n",
       "      <td>178.325000</td>\n",
       "      <td>270.150000</td>\n",
       "      <td>58.402500</td>\n",
       "    </tr>\n",
       "    <tr>\n",
       "      <th>max</th>\n",
       "      <td>20.400000</td>\n",
       "      <td>91.600000</td>\n",
       "      <td>1019.000000</td>\n",
       "      <td>4.600000</td>\n",
       "      <td>360.000000</td>\n",
       "      <td>7.000000</td>\n",
       "      <td>0.0</td>\n",
       "      <td>588.900000</td>\n",
       "      <td>930.000000</td>\n",
       "      <td>345.000000</td>\n",
       "    </tr>\n",
       "  </tbody>\n",
       "</table>\n",
       "</div>"
      ],
      "text/plain": [
       "           air_temp        relhum         press        windsp       winddir  \\\n",
       "count  17280.000000  17280.000000  17280.000000  17280.000000  17280.000000   \n",
       "mean       8.701582     67.729829   1009.649190      1.270847    188.947271   \n",
       "std        4.993406     15.472275      4.325073      0.617391     99.669510   \n",
       "min       -2.100000     25.480000   1002.000000      0.000000      0.000000   \n",
       "25%        5.300000     55.160000   1006.000000      0.780000     89.400000   \n",
       "50%        8.600000     72.700000   1010.000000      1.240000    195.000000   \n",
       "75%       12.160000     80.200000   1013.000000      1.680000    287.500000   \n",
       "max       20.400000     91.600000   1019.000000      4.600000    360.000000   \n",
       "\n",
       "         max_windsp  precipitation           ghi           dni           dhi  \n",
       "count  17280.000000        17280.0  17280.000000  17280.000000  17280.000000  \n",
       "mean       1.984583            0.0    103.138182    178.210890     37.898906  \n",
       "std        0.813625            0.0    162.767789    307.588747     64.325903  \n",
       "min        0.000000            0.0      0.000000      0.000000      0.000000  \n",
       "25%        1.400000            0.0      0.000000      0.000000      0.000000  \n",
       "50%        2.000000            0.0      0.000000      0.000000      0.051000  \n",
       "75%        2.500000            0.0    178.325000    270.150000     58.402500  \n",
       "max        7.000000            0.0    588.900000    930.000000    345.000000  "
      ]
     },
     "execution_count": 9,
     "metadata": {},
     "output_type": "execute_result"
    }
   ],
   "source": [
    "# Viewing information related to the features in the data frame\n",
    "df_pandas.describe()"
   ]
  },
  {
   "cell_type": "code",
   "execution_count": 10,
   "metadata": {},
   "outputs": [],
   "source": [
    "# ______code_attribution______\n",
    "# The following method was taken from GeeksforGeeks\n",
    "# Author: rajput-ji\n",
    "# Link: https://www.geeksforgeeks.org/how-to-drop-one-or-multiple-columns-in-pandas-dataframe/\n",
    "\n",
    "# Removing the columns that will not be used in the analysis\n",
    "df_new = df_pandas.drop(['press','max_windsp','precipitation','dhi'], axis=1)\n",
    "\n",
    "# _____end_____"
   ]
  },
  {
   "cell_type": "code",
   "execution_count": 11,
   "metadata": {},
   "outputs": [
    {
     "data": {
      "text/html": [
       "<div>\n",
       "<style scoped>\n",
       "    .dataframe tbody tr th:only-of-type {\n",
       "        vertical-align: middle;\n",
       "    }\n",
       "\n",
       "    .dataframe tbody tr th {\n",
       "        vertical-align: top;\n",
       "    }\n",
       "\n",
       "    .dataframe thead th {\n",
       "        text-align: right;\n",
       "    }\n",
       "</style>\n",
       "<table border=\"1\" class=\"dataframe\">\n",
       "  <thead>\n",
       "    <tr style=\"text-align: right;\">\n",
       "      <th></th>\n",
       "      <th>timeStamp</th>\n",
       "      <th>air_temp</th>\n",
       "      <th>relhum</th>\n",
       "      <th>windsp</th>\n",
       "      <th>winddir</th>\n",
       "      <th>ghi</th>\n",
       "      <th>dni</th>\n",
       "    </tr>\n",
       "  </thead>\n",
       "  <tbody>\n",
       "    <tr>\n",
       "      <th>0</th>\n",
       "      <td>2015-01-01 00:00:00</td>\n",
       "      <td>12.4</td>\n",
       "      <td>25.54</td>\n",
       "      <td>2.72</td>\n",
       "      <td>318.6</td>\n",
       "      <td>122.7</td>\n",
       "      <td>632.2</td>\n",
       "    </tr>\n",
       "    <tr>\n",
       "      <th>1</th>\n",
       "      <td>2015-01-01 00:01:00</td>\n",
       "      <td>12.4</td>\n",
       "      <td>25.66</td>\n",
       "      <td>2.38</td>\n",
       "      <td>312.0</td>\n",
       "      <td>119.9</td>\n",
       "      <td>626.2</td>\n",
       "    </tr>\n",
       "    <tr>\n",
       "      <th>2</th>\n",
       "      <td>2015-01-01 00:02:00</td>\n",
       "      <td>12.4</td>\n",
       "      <td>25.60</td>\n",
       "      <td>3.20</td>\n",
       "      <td>309.2</td>\n",
       "      <td>133.2</td>\n",
       "      <td>642.5</td>\n",
       "    </tr>\n",
       "    <tr>\n",
       "      <th>3</th>\n",
       "      <td>2015-01-01 00:03:00</td>\n",
       "      <td>12.4</td>\n",
       "      <td>25.48</td>\n",
       "      <td>2.30</td>\n",
       "      <td>308.8</td>\n",
       "      <td>154.9</td>\n",
       "      <td>621.9</td>\n",
       "    </tr>\n",
       "    <tr>\n",
       "      <th>4</th>\n",
       "      <td>2015-01-01 00:04:00</td>\n",
       "      <td>12.4</td>\n",
       "      <td>25.64</td>\n",
       "      <td>2.50</td>\n",
       "      <td>315.2</td>\n",
       "      <td>153.7</td>\n",
       "      <td>582.9</td>\n",
       "    </tr>\n",
       "  </tbody>\n",
       "</table>\n",
       "</div>"
      ],
      "text/plain": [
       "            timeStamp  air_temp  relhum  windsp  winddir    ghi    dni\n",
       "0 2015-01-01 00:00:00      12.4   25.54    2.72    318.6  122.7  632.2\n",
       "1 2015-01-01 00:01:00      12.4   25.66    2.38    312.0  119.9  626.2\n",
       "2 2015-01-01 00:02:00      12.4   25.60    3.20    309.2  133.2  642.5\n",
       "3 2015-01-01 00:03:00      12.4   25.48    2.30    308.8  154.9  621.9\n",
       "4 2015-01-01 00:04:00      12.4   25.64    2.50    315.2  153.7  582.9"
      ]
     },
     "execution_count": 11,
     "metadata": {},
     "output_type": "execute_result"
    }
   ],
   "source": [
    "# Viewing the first 5 rows of the data frame after the columns have been dropped\n",
    "df_new.head()"
   ]
  },
  {
   "cell_type": "code",
   "execution_count": 12,
   "metadata": {},
   "outputs": [
    {
     "data": {
      "text/plain": [
       "False"
      ]
     },
     "execution_count": 12,
     "metadata": {},
     "output_type": "execute_result"
    }
   ],
   "source": [
    "# ______code_attribution______\n",
    "# The following method was taken from Atlassian\n",
    "# Author: AJ Welch\n",
    "# Link: https://www.atlassian.com/data/notebook/how-to-check-if-any-value-is-nan-in-a-pandas-dataframe\n",
    "\n",
    "# Checking to see if there are any values that are missing\n",
    "df_new.isnull().values.any()\n",
    "\n",
    "# _____end_____"
   ]
  },
  {
   "cell_type": "code",
   "execution_count": 13,
   "metadata": {},
   "outputs": [
    {
     "data": {
      "text/plain": [
       "0        False\n",
       "1        False\n",
       "2        False\n",
       "3        False\n",
       "4        False\n",
       "         ...  \n",
       "17275    False\n",
       "17276    False\n",
       "17277    False\n",
       "17278    False\n",
       "17279    False\n",
       "Length: 17280, dtype: bool"
      ]
     },
     "execution_count": 13,
     "metadata": {},
     "output_type": "execute_result"
    }
   ],
   "source": [
    "# ______code_attribution______\n",
    "# The following method was taken from W3Schools\n",
    "# Author: W3Schools\n",
    "# Link: https://www.w3schools.com/python/pandas/ref_df_duplicated.asp\n",
    "\n",
    "# Checking to see if there any duplicate values\n",
    "df_new.duplicated()\n",
    "\n",
    "# _____end_____"
   ]
  },
  {
   "cell_type": "markdown",
   "metadata": {},
   "source": [
    "### Visualizing the data"
   ]
  },
  {
   "cell_type": "code",
   "execution_count": 14,
   "metadata": {},
   "outputs": [
    {
     "data": {
      "image/png": "[encoded data removed]",
      "text/plain": [
       "<Figure size 864x576 with 1 Axes>"
      ]
     },
     "metadata": {
      "needs_background": "light"
     },
     "output_type": "display_data"
    }
   ],
   "source": [
    "# ______code_attribution______\n",
    "# The following method was taken from freeCodeCamp\n",
    "# Author: Ihechikara Abba\n",
    "# Link: https://www.freecodecamp.org/news/matplotlib-figure-size-change-plot-size-in-python/\n",
    "\n",
    "# Setting the figure size for the line plot\n",
    "plt.figure(figsize=(12,8))\n",
    "\n",
    "# _____end_____\n",
    "\n",
    "# ______code_attribution______\n",
    "# The following method was taken from DataCamp\n",
    "# Author: Arunn Thevapalan\n",
    "# Link: https://www.datacamp.com/tutorial/line-plots-in-matplotlib-with-python\n",
    "\n",
    "# Declaring variables for the time period and ghi\n",
    "time_period = df_new['timeStamp']\n",
    "ghi = df_new['ghi']\n",
    "\n",
    "# Converting the time period variable to date time\n",
    "ghi_time_period = pd.to_datetime(time_period)\n",
    "\n",
    "# Creating a line plot to display the ghi and specifying the x-axis and y-axis label as well as the title \n",
    "plt.plot(ghi_time_period, ghi , color = 'orange')\n",
    "plt.xlabel('Time Period')\n",
    "plt.ylabel('GHI')\n",
    "plt.title('GHI over the 12 day time period')\n",
    "\n",
    "# Displaying the line plot\n",
    "plt.show()\n",
    "\n",
    "# _____end_____"
   ]
  },
  {
   "cell_type": "code",
   "execution_count": 15,
   "metadata": {},
   "outputs": [
    {
     "data": {
      "image/png": "[encoded data removed]",
      "text/plain": [
       "<Figure size 864x576 with 1 Axes>"
      ]
     },
     "metadata": {
      "needs_background": "light"
     },
     "output_type": "display_data"
    }
   ],
   "source": [
    "# ______code_attribution______\n",
    "# The following method was taken from freeCodeCamp\n",
    "# Author: Ihechikara Abba\n",
    "# Link: https://www.freecodecamp.org/news/matplotlib-figure-size-change-plot-size-in-python/\n",
    "\n",
    "# Setting the figure size for the line plot\n",
    "plt.figure(figsize=(12,8))\n",
    "\n",
    "# _____end_____\n",
    "\n",
    "# ______code_attribution______\n",
    "# The following method was taken from DataCamp\n",
    "# Author: Arunn Thevapalan\n",
    "# Link: https://www.datacamp.com/tutorial/line-plots-in-matplotlib-with-python\n",
    "\n",
    "# Declaring variables for the time period and dni\n",
    "time_period = df_new['timeStamp']\n",
    "dni = df_new['dni']\n",
    "\n",
    "# Converting the time period variable to date time\n",
    "dni_time_period = pd.to_datetime(time_period)\n",
    "\n",
    "# Creating a line plot to display the dni and specifying the x-axis and y-axis label as well as the title \n",
    "plt.plot(dni_time_period, dni , color = 'red')\n",
    "plt.xlabel('Time Period')\n",
    "plt.ylabel('DNI')\n",
    "plt.title('DNI over the 12 day time period')\n",
    "\n",
    "# Displaying the line plot\n",
    "plt.show()\n",
    "\n",
    "# _____end_____"
   ]
  },
  {
   "cell_type": "code",
   "execution_count": 16,
   "metadata": {},
   "outputs": [],
   "source": [
    "# ______code_attribution______\n",
    "# The following method was taken from GeeksforGeeks\n",
    "# Author: rajput-ji\n",
    "# Link: https://www.geeksforgeeks.org/how-to-drop-one-or-multiple-columns-in-pandas-dataframe/\n",
    "\n",
    "# Removing the timeStamp column\n",
    "df_new = df_new.drop(['timeStamp'], axis=1)\n",
    "\n",
    "# _____end_____"
   ]
  },
  {
   "cell_type": "markdown",
   "metadata": {},
   "source": [
    "### Creating the LSTM model"
   ]
  },
  {
   "cell_type": "code",
   "execution_count": 17,
   "metadata": {},
   "outputs": [],
   "source": [
    "# Assigning X and y variables\n",
    "df_X = df_new[['air_temp','relhum','windsp','winddir']]\n",
    "df_y = df_new[['ghi','dni']]"
   ]
  },
  {
   "cell_type": "code",
   "execution_count": 18,
   "metadata": {},
   "outputs": [],
   "source": [
    "# ______code_attribution______\n",
    "# The following method was taken from Medium\n",
    "# Author: Sebastien Simon\n",
    "# Link: https://medium.com/@sebastienwebdev/forecasting-weather-patterns-with-lstm-a-python-guide-without-dates-433f0356136c\n",
    "\n",
    "# Scaling the X and y data\n",
    "scaling = MinMaxScaler(feature_range=(0, 1))\n",
    "scaled_df_X = scaling.fit_transform(df_X)\n",
    "scaled_df_y = scaling.fit_transform(df_y)\n",
    "\n",
    "# _____end_____"
   ]
  },
  {
   "cell_type": "code",
   "execution_count": 19,
   "metadata": {},
   "outputs": [],
   "source": [
    "# ______code_attribution______\n",
    "# The following method was taken from Medium\n",
    "# Author: Vineet Pandya\n",
    "# Link: https://medium.com/@vineet.pandya/use-tensorflow-lstm-for-time-series-forecasting-770ec789d2ce\n",
    "\n",
    "# Method that will create sequences for the LSTM model using the X features , y features and the sequence length\n",
    "def lstm_sequence(X_features,y_features, sequence):\n",
    "\n",
    "    X = []\n",
    "    y = []\n",
    "    \n",
    "    for i in range(len(X_features) - sequence):\n",
    "        row = [x for x in X_features[i:i + sequence]]\n",
    "        X.append(row)\n",
    "        label = y_features[i + sequence]\n",
    "        y.append(label)\n",
    "        \n",
    "    return np.array(X), np.array(y)\n",
    "\n",
    "# _____end_____"
   ]
  },
  {
   "cell_type": "code",
   "execution_count": 20,
   "metadata": {},
   "outputs": [],
   "source": [
    "# ______code_attribution______\n",
    "# The following method was taken from Medium\n",
    "# Author: Vineet Pandya\n",
    "# Link: https://medium.com/@vineet.pandya/use-tensorflow-lstm-for-time-series-forecasting-770ec789d2ce\n",
    "\n",
    "# Setting a sequence length\n",
    "sequence_length = 20\n",
    "\n",
    "# _____end_____"
   ]
  },
  {
   "cell_type": "code",
   "execution_count": 21,
   "metadata": {},
   "outputs": [],
   "source": [
    "# ______code_attribution______\n",
    "# The following method was taken from Medium\n",
    "# Author: Vineet Pandya\n",
    "# Link: https://medium.com/@vineet.pandya/use-tensorflow-lstm-for-time-series-forecasting-770ec789d2ce\n",
    "\n",
    "# Creating sequences using the method defined above\n",
    "X, y = lstm_sequence(scaled_df_X,scaled_df_y, sequence_length)\n",
    "\n",
    "# _____end_____"
   ]
  },
  {
   "cell_type": "code",
   "execution_count": 22,
   "metadata": {},
   "outputs": [],
   "source": [
    "# ______code_attribution______\n",
    "# The following method was taken from Analytics Vidhya\n",
    "# Author: Sakshi Raheja\n",
    "# Link: https://www.analyticsvidhya.com/blog/2023/11/train-test-validation-split/\n",
    "\n",
    "# Creating a train test split and validation split\n",
    "from sklearn.model_selection import train_test_split\n",
    "X_train, X_data, y_train, y_data = train_test_split(X, y, test_size=0.2, random_state=0)\n",
    "X_validation, X_test, y_validation, y_test = train_test_split(X_data, y_data, test_size=0.5, random_state=0)\n",
    "\n",
    "# _____end_____"
   ]
  },
  {
   "cell_type": "code",
   "execution_count": 23,
   "metadata": {},
   "outputs": [],
   "source": [
    "# ______code_attribution______\n",
    "# The following method was taken from Medium\n",
    "# Author: Vineet Pandya\n",
    "# Link: https://medium.com/@vineet.pandya/use-tensorflow-lstm-for-time-series-forecasting-770ec789d2ce\n",
    "\n",
    "# Creating a variable to hold the number of X features that will be used\n",
    "no_of_features = X.shape[2]\n",
    "\n",
    "# Creating the LSTM model \n",
    "lstm_model= Sequential()\n",
    "lstm_model.add(InputLayer((sequence_length,no_of_features)))   \n",
    "lstm_model.add(LSTM(150, return_sequences = True))  \n",
    "lstm_model.add(LSTM(150))\n",
    "lstm_model.add(Dense(2, activation = 'relu'))\n",
    "\n",
    "# _____end_____"
   ]
  },
  {
   "cell_type": "code",
   "execution_count": 24,
   "metadata": {},
   "outputs": [],
   "source": [
    "# ______code_attribution______\n",
    "# The following method was taken from Medium\n",
    "# Author: Vineet Pandya\n",
    "# Link: https://medium.com/@vineet.pandya/use-tensorflow-lstm-for-time-series-forecasting-770ec789d2ce\n",
    "\n",
    "# Creating a variable for early stopping to add to the model\n",
    "early_stopping = EarlyStopping(monitor = 'val_loss', patience = 2)\n",
    "\n",
    "# _____end_____"
   ]
  },
  {
   "cell_type": "code",
   "execution_count": 25,
   "metadata": {},
   "outputs": [],
   "source": [
    "# ______code_attribution______\n",
    "# The following method was taken from Medium\n",
    "# Author: Vineet Pandya\n",
    "# Link: https://medium.com/@vineet.pandya/use-tensorflow-lstm-for-time-series-forecasting-770ec789d2ce\n",
    "\n",
    "# Compiling the LSTM model with the necessary parameters\n",
    "lstm_model.compile(loss = MeanSquaredError(), optimizer = Adam(learning_rate = 0.001) , metrics = RootMeanSquaredError())\n",
    "\n",
    "# _____end_____"
   ]
  },
  {
   "cell_type": "code",
   "execution_count": 26,
   "metadata": {},
   "outputs": [
    {
     "name": "stdout",
     "output_type": "stream",
     "text": [
      "Epoch 1/100\n",
      "216/216 [==============================] - 11s 39ms/step - loss: 0.0601 - root_mean_squared_error: 0.2451 - val_loss: 0.0479 - val_root_mean_squared_error: 0.2188\n",
      "Epoch 2/100\n",
      "216/216 [==============================] - 8s 36ms/step - loss: 0.0422 - root_mean_squared_error: 0.2055 - val_loss: 0.0362 - val_root_mean_squared_error: 0.1903\n",
      "Epoch 3/100\n",
      "216/216 [==============================] - 8s 37ms/step - loss: 0.0331 - root_mean_squared_error: 0.1819 - val_loss: 0.0289 - val_root_mean_squared_error: 0.1700\n",
      "Epoch 4/100\n",
      "216/216 [==============================] - 8s 35ms/step - loss: 0.0288 - root_mean_squared_error: 0.1697 - val_loss: 0.0289 - val_root_mean_squared_error: 0.1699\n",
      "Epoch 5/100\n",
      "216/216 [==============================] - 8s 35ms/step - loss: 0.0289 - root_mean_squared_error: 0.1700 - val_loss: 0.0278 - val_root_mean_squared_error: 0.1667\n",
      "Epoch 6/100\n",
      "216/216 [==============================] - 8s 37ms/step - loss: 0.0279 - root_mean_squared_error: 0.1670 - val_loss: 0.0314 - val_root_mean_squared_error: 0.1773\n",
      "Epoch 7/100\n",
      "216/216 [==============================] - 8s 37ms/step - loss: 0.0268 - root_mean_squared_error: 0.1638 - val_loss: 0.0282 - val_root_mean_squared_error: 0.1680\n"
     ]
    },
    {
     "data": {
      "text/plain": [
       "<keras.src.callbacks.History at 0x7fc8c0c110a0>"
      ]
     },
     "execution_count": 26,
     "metadata": {},
     "output_type": "execute_result"
    }
   ],
   "source": [
    "# The following method to train the LSTM model was taken from two tutorials\n",
    "\n",
    "# ______code_attribution______\n",
    "# The following method was taken from Medium\n",
    "# Author: Vineet Pandya\n",
    "# Link: https://medium.com/@vineet.pandya/use-tensorflow-lstm-for-time-series-forecasting-770ec789d2ce\n",
    "\n",
    "# ______code_attribution______\n",
    "# The following method was taken from Medium\n",
    "# Author: Sebastien Simon\n",
    "# Link: https://medium.com/@sebastienwebdev/forecasting-weather-patterns-with-lstm-a-python-guide-without-dates-433f0356136c\n",
    "\n",
    "# Fitting the data and specifying the parameters for the LSTM model\n",
    "lstm_model.fit(X_train, y_train, validation_data = (X_validation, y_validation),epochs = 100, callbacks = [early_stopping], batch_size= 64)\n",
    "\n",
    "# _____end_____"
   ]
  },
  {
   "cell_type": "markdown",
   "metadata": {},
   "source": [
    "### Loss and error graph"
   ]
  },
  {
   "cell_type": "code",
   "execution_count": 27,
   "metadata": {},
   "outputs": [
    {
     "data": {
      "text/plain": [
       "<AxesSubplot:>"
      ]
     },
     "execution_count": 27,
     "metadata": {},
     "output_type": "execute_result"
    },
    {
     "data": {
      "image/png": "[encoded data removed]",
      "text/plain": [
       "<Figure size 792x504 with 1 Axes>"
      ]
     },
     "metadata": {
      "needs_background": "light"
     },
     "output_type": "display_data"
    }
   ],
   "source": [
    "# ______code_attribution______\n",
    "# The following method was taken from Medium\n",
    "# Author: Vineet Pandya\n",
    "# Link: https://medium.com/@vineet.pandya/use-tensorflow-lstm-for-time-series-forecasting-770ec789d2ce\n",
    "\n",
    "loss_error_graph = pd.DataFrame(lstm_model.history.history)\n",
    "\n",
    "loss_error_graph.plot(figsize = (11,7))\n",
    "\n",
    "# _____end_____"
   ]
  },
  {
   "cell_type": "markdown",
   "metadata": {},
   "source": [
    "### Making predictions"
   ]
  },
  {
   "cell_type": "code",
   "execution_count": null,
   "metadata": {},
   "outputs": [
    {
     "name": "stdout",
     "output_type": "stream",
     "text": [
      "54/54 [==============================] - 1s 8ms/step\n"
     ]
    },
    {
     "data": {
      "text/plain": [
       "array([[  0.     ,   0.     ],\n",
       "       [  0.     ,   0.     ],\n",
       "       [ 68.25698,  59.97684],\n",
       "       ...,\n",
       "       [286.05234, 541.8001 ],\n",
       "       [  0.     ,   0.     ],\n",
       "       [  0.     ,   0.     ]], dtype=float32)"
      ]
     },
     "execution_count": 28,
     "metadata": {},
     "output_type": "execute_result"
    }
   ],
   "source": [
    "# ______code_attribution______\n",
    "# The following method was taken from Medium\n",
    "# Author: Sebastien Simon\n",
    "# Link: https://medium.com/@sebastienwebdev/forecasting-weather-patterns-with-lstm-a-python-guide-without-dates-433f0356136c\n",
    "\n",
    "# Making a prediction using the test data\n",
    "solar_irradiance_pred = lstm_model.predict(X_test)\n",
    "\n",
    "# Inverse transforming the scaled predictions\n",
    "solar_irradiance_pred_final = scaling.inverse_transform(solar_irradiance_pred)\n",
    "\n",
    "# _____end_____\n",
    "\n",
    "# Viewing the predictions\n",
    "solar_irradiance_pred_final"
   ]
  },
  {
   "cell_type": "code",
   "execution_count": 29,
   "metadata": {},
   "outputs": [],
   "source": [
    "# ______code_attribution______\n",
    "# The following method was taken from Medium\n",
    "# Author: Sebastien Simon\n",
    "# Link: https://medium.com/@sebastienwebdev/forecasting-weather-patterns-with-lstm-a-python-guide-without-dates-433f0356136c\n",
    "\n",
    "# Inverse transforming the scaled y test data\n",
    "y_final=scaling.inverse_transform(y_test)\n",
    "\n",
    "# _____end_____\n"
   ]
  },
  {
   "cell_type": "markdown",
   "metadata": {},
   "source": [
    "### Evaluating the model"
   ]
  },
  {
   "cell_type": "markdown",
   "metadata": {},
   "source": [
    "#### Mean square error"
   ]
  },
  {
   "cell_type": "code",
   "execution_count": 30,
   "metadata": {},
   "outputs": [
    {
     "data": {
      "text/plain": [
       "18318.464754148263"
      ]
     },
     "execution_count": 30,
     "metadata": {},
     "output_type": "execute_result"
    }
   ],
   "source": [
    "mse = mean_squared_error(y_final,solar_irradiance_pred_final)\n",
    "mse"
   ]
  },
  {
   "cell_type": "markdown",
   "metadata": {},
   "source": [
    "#### Root mean square error"
   ]
  },
  {
   "cell_type": "code",
   "execution_count": 31,
   "metadata": {},
   "outputs": [
    {
     "data": {
      "text/plain": [
       "127.97106993219222"
      ]
     },
     "execution_count": 31,
     "metadata": {},
     "output_type": "execute_result"
    }
   ],
   "source": [
    "rmse = root_mean_squared_error(y_final,solar_irradiance_pred_final)\n",
    "rmse"
   ]
  },
  {
   "cell_type": "markdown",
   "metadata": {},
   "source": [
    "#### Mean absolute percentage error"
   ]
  },
  {
   "cell_type": "code",
   "execution_count": 32,
   "metadata": {},
   "outputs": [
    {
     "data": {
      "text/plain": [
       "5.06861035840335e+16"
      ]
     },
     "execution_count": 32,
     "metadata": {},
     "output_type": "execute_result"
    }
   ],
   "source": [
    "mape = mean_absolute_percentage_error(y_final,solar_irradiance_pred_final)\n",
    "mape"
   ]
  },
  {
   "cell_type": "markdown",
   "metadata": {},
   "source": [
    "#### R2 score"
   ]
  },
  {
   "cell_type": "code",
   "execution_count": 33,
   "metadata": {},
   "outputs": [
    {
     "data": {
      "text/plain": [
       "0.7227911529297544"
      ]
     },
     "execution_count": 33,
     "metadata": {},
     "output_type": "execute_result"
    }
   ],
   "source": [
    "r2=r2_score(y_final,solar_irradiance_pred_final)\n",
    "r2"
   ]
  },
  {
   "cell_type": "markdown",
   "metadata": {},
   "source": [
    "#### Mean absolute error"
   ]
  },
  {
   "cell_type": "code",
   "execution_count": 34,
   "metadata": {},
   "outputs": [
    {
     "data": {
      "text/plain": [
       "66.91334193144588"
      ]
     },
     "execution_count": 34,
     "metadata": {},
     "output_type": "execute_result"
    }
   ],
   "source": [
    "mae = mean_absolute_error(y_final,solar_irradiance_pred_final)\n",
    "mae"
   ]
  }
 ],
 "metadata": {
  "kernelspec": {
   "display_name": "base",
   "language": "python",
   "name": "python3"
  },
  "language_info": {
   "codemirror_mode": {
    "name": "ipython",
    "version": 3
   },
   "file_extension": ".py",
   "mimetype": "text/x-python",
   "name": "python",
   "nbconvert_exporter": "python",
   "pygments_lexer": "ipython3",
   "version": "3.9.7"
  }
 },
 "nbformat": 4,
 "nbformat_minor": 2
}
